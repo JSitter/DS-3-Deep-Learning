{
 "cells": [
  {
   "cell_type": "markdown",
   "metadata": {},
   "source": [
    "# Higgs Dataset\n",
    "\n",
    "## What happens when you smash things together near the speed of light?\n",
    "\n",
    "The Higgs boson has been sought after for decades. Can we use machine learning to gather any more information about it?"
   ]
  },
  {
   "cell_type": "code",
   "execution_count": 2,
   "metadata": {},
   "outputs": [
    {
     "name": "stderr",
     "output_type": "stream",
     "text": [
      "Using TensorFlow backend.\n"
     ]
    }
   ],
   "source": [
    "import pandas as pd\n",
    "import keras\n",
    "import numpy as np\n",
    "from sklearn.preprocessing import StandardScaler\n",
    "from sklearn.tree import DecisionTreeClassifier\n",
    "from sklearn.model_selection import train_test_split\n",
    "from sklearn.metrics import f1_score\n",
    "callback = keras.callbacks.TensorBoard(log_dir='./logs',histogram_freq=0, batch_size=32, write_graph=True)\n",
    "%matplotlib inline\n",
    "np.random.seed(0)"
   ]
  },
  {
   "cell_type": "code",
   "execution_count": 3,
   "metadata": {
    "collapsed": true
   },
   "outputs": [],
   "source": [
    "column_names = ['Class Label', 'lepton pT', 'lepton eta', \n",
    "                'lepton phi', 'missing energy magnitude',\n",
    "                'missing energy phi', 'jet 1 pt', 'jet 1 eta',\n",
    "                'jet 1 phi', 'jet 1 b-tag', 'jet 2 pt',  'jet 2 eta', \n",
    "                'jet 2 phi', 'jet 2 b-tag', 'jet 3 pt', 'jet 3 eta', \n",
    "                'jet 3 phi',' jet 3 b-tag', 'jet 4 pt', 'jet 4 eta', \n",
    "                'jet 4 phi', 'jet 4 b-tag', 'm_jj', 'm_jjj', 'm_lv', \n",
    "                'm_jlv', 'm_bb', 'm_wbb', 'm_wwbb'\n",
    "               ]"
   ]
  },
  {
   "cell_type": "code",
   "execution_count": 4,
   "metadata": {
    "collapsed": true
   },
   "outputs": [],
   "source": [
    "df = pd.read_csv('datasets/HIGGS.csv', names = column_names)"
   ]
  },
  {
   "cell_type": "code",
   "execution_count": 6,
   "metadata": {
    "collapsed": true
   },
   "outputs": [],
   "source": [
    "callback = keras.callbacks.TensorBoard(log_dir='./logs', histogram_freq=0, batch_size=32, write_graph=True)"
   ]
  },
  {
   "cell_type": "code",
   "execution_count": 5,
   "metadata": {},
   "outputs": [
    {
     "data": {
      "text/html": [
       "<div>\n",
       "<style>\n",
       "    .dataframe thead tr:only-child th {\n",
       "        text-align: right;\n",
       "    }\n",
       "\n",
       "    .dataframe thead th {\n",
       "        text-align: left;\n",
       "    }\n",
       "\n",
       "    .dataframe tbody tr th {\n",
       "        vertical-align: top;\n",
       "    }\n",
       "</style>\n",
       "<table border=\"1\" class=\"dataframe\">\n",
       "  <thead>\n",
       "    <tr style=\"text-align: right;\">\n",
       "      <th></th>\n",
       "      <th>Class Label</th>\n",
       "      <th>lepton pT</th>\n",
       "      <th>lepton eta</th>\n",
       "      <th>lepton phi</th>\n",
       "      <th>missing energy magnitude</th>\n",
       "      <th>missing energy phi</th>\n",
       "      <th>jet 1 pt</th>\n",
       "      <th>jet 1 eta</th>\n",
       "      <th>jet 1 phi</th>\n",
       "      <th>jet 1 b-tag</th>\n",
       "      <th>...</th>\n",
       "      <th>jet 4 eta</th>\n",
       "      <th>jet 4 phi</th>\n",
       "      <th>jet 4 b-tag</th>\n",
       "      <th>m_jj</th>\n",
       "      <th>m_jjj</th>\n",
       "      <th>m_lv</th>\n",
       "      <th>m_jlv</th>\n",
       "      <th>m_bb</th>\n",
       "      <th>m_wbb</th>\n",
       "      <th>m_wwbb</th>\n",
       "    </tr>\n",
       "  </thead>\n",
       "  <tbody>\n",
       "    <tr>\n",
       "      <th>0</th>\n",
       "      <td>1.0</td>\n",
       "      <td>0.869293</td>\n",
       "      <td>-0.635082</td>\n",
       "      <td>0.225690</td>\n",
       "      <td>0.327470</td>\n",
       "      <td>-0.689993</td>\n",
       "      <td>0.754202</td>\n",
       "      <td>-0.248573</td>\n",
       "      <td>-1.092064</td>\n",
       "      <td>0.000000</td>\n",
       "      <td>...</td>\n",
       "      <td>-0.010455</td>\n",
       "      <td>-0.045767</td>\n",
       "      <td>3.101961</td>\n",
       "      <td>1.353760</td>\n",
       "      <td>0.979563</td>\n",
       "      <td>0.978076</td>\n",
       "      <td>0.920005</td>\n",
       "      <td>0.721657</td>\n",
       "      <td>0.988751</td>\n",
       "      <td>0.876678</td>\n",
       "    </tr>\n",
       "    <tr>\n",
       "      <th>1</th>\n",
       "      <td>1.0</td>\n",
       "      <td>0.907542</td>\n",
       "      <td>0.329147</td>\n",
       "      <td>0.359412</td>\n",
       "      <td>1.497970</td>\n",
       "      <td>-0.313010</td>\n",
       "      <td>1.095531</td>\n",
       "      <td>-0.557525</td>\n",
       "      <td>-1.588230</td>\n",
       "      <td>2.173076</td>\n",
       "      <td>...</td>\n",
       "      <td>-1.138930</td>\n",
       "      <td>-0.000819</td>\n",
       "      <td>0.000000</td>\n",
       "      <td>0.302220</td>\n",
       "      <td>0.833048</td>\n",
       "      <td>0.985700</td>\n",
       "      <td>0.978098</td>\n",
       "      <td>0.779732</td>\n",
       "      <td>0.992356</td>\n",
       "      <td>0.798343</td>\n",
       "    </tr>\n",
       "    <tr>\n",
       "      <th>2</th>\n",
       "      <td>1.0</td>\n",
       "      <td>0.798835</td>\n",
       "      <td>1.470639</td>\n",
       "      <td>-1.635975</td>\n",
       "      <td>0.453773</td>\n",
       "      <td>0.425629</td>\n",
       "      <td>1.104875</td>\n",
       "      <td>1.282322</td>\n",
       "      <td>1.381664</td>\n",
       "      <td>0.000000</td>\n",
       "      <td>...</td>\n",
       "      <td>1.128848</td>\n",
       "      <td>0.900461</td>\n",
       "      <td>0.000000</td>\n",
       "      <td>0.909753</td>\n",
       "      <td>1.108330</td>\n",
       "      <td>0.985692</td>\n",
       "      <td>0.951331</td>\n",
       "      <td>0.803252</td>\n",
       "      <td>0.865924</td>\n",
       "      <td>0.780118</td>\n",
       "    </tr>\n",
       "    <tr>\n",
       "      <th>3</th>\n",
       "      <td>0.0</td>\n",
       "      <td>1.344385</td>\n",
       "      <td>-0.876626</td>\n",
       "      <td>0.935913</td>\n",
       "      <td>1.992050</td>\n",
       "      <td>0.882454</td>\n",
       "      <td>1.786066</td>\n",
       "      <td>-1.646778</td>\n",
       "      <td>-0.942383</td>\n",
       "      <td>0.000000</td>\n",
       "      <td>...</td>\n",
       "      <td>-0.678379</td>\n",
       "      <td>-1.360356</td>\n",
       "      <td>0.000000</td>\n",
       "      <td>0.946652</td>\n",
       "      <td>1.028704</td>\n",
       "      <td>0.998656</td>\n",
       "      <td>0.728281</td>\n",
       "      <td>0.869200</td>\n",
       "      <td>1.026736</td>\n",
       "      <td>0.957904</td>\n",
       "    </tr>\n",
       "    <tr>\n",
       "      <th>4</th>\n",
       "      <td>1.0</td>\n",
       "      <td>1.105009</td>\n",
       "      <td>0.321356</td>\n",
       "      <td>1.522401</td>\n",
       "      <td>0.882808</td>\n",
       "      <td>-1.205349</td>\n",
       "      <td>0.681466</td>\n",
       "      <td>-1.070464</td>\n",
       "      <td>-0.921871</td>\n",
       "      <td>0.000000</td>\n",
       "      <td>...</td>\n",
       "      <td>-0.373566</td>\n",
       "      <td>0.113041</td>\n",
       "      <td>0.000000</td>\n",
       "      <td>0.755856</td>\n",
       "      <td>1.361057</td>\n",
       "      <td>0.986610</td>\n",
       "      <td>0.838085</td>\n",
       "      <td>1.133295</td>\n",
       "      <td>0.872245</td>\n",
       "      <td>0.808487</td>\n",
       "    </tr>\n",
       "  </tbody>\n",
       "</table>\n",
       "<p>5 rows × 29 columns</p>\n",
       "</div>"
      ],
      "text/plain": [
       "   Class Label  lepton pT  lepton eta  lepton phi  missing energy magnitude  \\\n",
       "0          1.0   0.869293   -0.635082    0.225690                  0.327470   \n",
       "1          1.0   0.907542    0.329147    0.359412                  1.497970   \n",
       "2          1.0   0.798835    1.470639   -1.635975                  0.453773   \n",
       "3          0.0   1.344385   -0.876626    0.935913                  1.992050   \n",
       "4          1.0   1.105009    0.321356    1.522401                  0.882808   \n",
       "\n",
       "   missing energy phi  jet 1 pt  jet 1 eta  jet 1 phi  jet 1 b-tag    ...     \\\n",
       "0           -0.689993  0.754202  -0.248573  -1.092064     0.000000    ...      \n",
       "1           -0.313010  1.095531  -0.557525  -1.588230     2.173076    ...      \n",
       "2            0.425629  1.104875   1.282322   1.381664     0.000000    ...      \n",
       "3            0.882454  1.786066  -1.646778  -0.942383     0.000000    ...      \n",
       "4           -1.205349  0.681466  -1.070464  -0.921871     0.000000    ...      \n",
       "\n",
       "   jet 4 eta  jet 4 phi  jet 4 b-tag      m_jj     m_jjj      m_lv     m_jlv  \\\n",
       "0  -0.010455  -0.045767     3.101961  1.353760  0.979563  0.978076  0.920005   \n",
       "1  -1.138930  -0.000819     0.000000  0.302220  0.833048  0.985700  0.978098   \n",
       "2   1.128848   0.900461     0.000000  0.909753  1.108330  0.985692  0.951331   \n",
       "3  -0.678379  -1.360356     0.000000  0.946652  1.028704  0.998656  0.728281   \n",
       "4  -0.373566   0.113041     0.000000  0.755856  1.361057  0.986610  0.838085   \n",
       "\n",
       "       m_bb     m_wbb    m_wwbb  \n",
       "0  0.721657  0.988751  0.876678  \n",
       "1  0.779732  0.992356  0.798343  \n",
       "2  0.803252  0.865924  0.780118  \n",
       "3  0.869200  1.026736  0.957904  \n",
       "4  1.133295  0.872245  0.808487  \n",
       "\n",
       "[5 rows x 29 columns]"
      ]
     },
     "execution_count": 5,
     "metadata": {},
     "output_type": "execute_result"
    }
   ],
   "source": [
    "df.head()"
   ]
  },
  {
   "cell_type": "code",
   "execution_count": 6,
   "metadata": {},
   "outputs": [
    {
     "data": {
      "text/html": [
       "<div>\n",
       "<style>\n",
       "    .dataframe thead tr:only-child th {\n",
       "        text-align: right;\n",
       "    }\n",
       "\n",
       "    .dataframe thead th {\n",
       "        text-align: left;\n",
       "    }\n",
       "\n",
       "    .dataframe tbody tr th {\n",
       "        vertical-align: top;\n",
       "    }\n",
       "</style>\n",
       "<table border=\"1\" class=\"dataframe\">\n",
       "  <thead>\n",
       "    <tr style=\"text-align: right;\">\n",
       "      <th></th>\n",
       "      <th>Class Label</th>\n",
       "      <th>lepton pT</th>\n",
       "      <th>lepton eta</th>\n",
       "      <th>lepton phi</th>\n",
       "      <th>missing energy magnitude</th>\n",
       "      <th>missing energy phi</th>\n",
       "      <th>jet 1 pt</th>\n",
       "      <th>jet 1 eta</th>\n",
       "      <th>jet 1 phi</th>\n",
       "      <th>jet 1 b-tag</th>\n",
       "      <th>...</th>\n",
       "      <th>jet 4 eta</th>\n",
       "      <th>jet 4 phi</th>\n",
       "      <th>jet 4 b-tag</th>\n",
       "      <th>m_jj</th>\n",
       "      <th>m_jjj</th>\n",
       "      <th>m_lv</th>\n",
       "      <th>m_jlv</th>\n",
       "      <th>m_bb</th>\n",
       "      <th>m_wbb</th>\n",
       "      <th>m_wwbb</th>\n",
       "    </tr>\n",
       "  </thead>\n",
       "  <tbody>\n",
       "    <tr>\n",
       "      <th>count</th>\n",
       "      <td>1.100000e+07</td>\n",
       "      <td>1.100000e+07</td>\n",
       "      <td>1.100000e+07</td>\n",
       "      <td>1.100000e+07</td>\n",
       "      <td>1.100000e+07</td>\n",
       "      <td>1.100000e+07</td>\n",
       "      <td>1.100000e+07</td>\n",
       "      <td>1.100000e+07</td>\n",
       "      <td>1.100000e+07</td>\n",
       "      <td>1.100000e+07</td>\n",
       "      <td>...</td>\n",
       "      <td>1.100000e+07</td>\n",
       "      <td>1.100000e+07</td>\n",
       "      <td>1.100000e+07</td>\n",
       "      <td>1.100000e+07</td>\n",
       "      <td>1.100000e+07</td>\n",
       "      <td>1.100000e+07</td>\n",
       "      <td>1.100000e+07</td>\n",
       "      <td>1.100000e+07</td>\n",
       "      <td>1.100000e+07</td>\n",
       "      <td>1.100000e+07</td>\n",
       "    </tr>\n",
       "    <tr>\n",
       "      <th>mean</th>\n",
       "      <td>5.299203e-01</td>\n",
       "      <td>9.914658e-01</td>\n",
       "      <td>-8.297618e-06</td>\n",
       "      <td>-1.327225e-05</td>\n",
       "      <td>9.985364e-01</td>\n",
       "      <td>2.613459e-05</td>\n",
       "      <td>9.909152e-01</td>\n",
       "      <td>-2.027520e-05</td>\n",
       "      <td>7.716199e-06</td>\n",
       "      <td>9.999687e-01</td>\n",
       "      <td>...</td>\n",
       "      <td>-5.756954e-06</td>\n",
       "      <td>1.744903e-05</td>\n",
       "      <td>1.000000e+00</td>\n",
       "      <td>1.034290e+00</td>\n",
       "      <td>1.024805e+00</td>\n",
       "      <td>1.050554e+00</td>\n",
       "      <td>1.009742e+00</td>\n",
       "      <td>9.729596e-01</td>\n",
       "      <td>1.033036e+00</td>\n",
       "      <td>9.598120e-01</td>\n",
       "    </tr>\n",
       "    <tr>\n",
       "      <th>std</th>\n",
       "      <td>4.991040e-01</td>\n",
       "      <td>5.653777e-01</td>\n",
       "      <td>1.008827e+00</td>\n",
       "      <td>1.006346e+00</td>\n",
       "      <td>6.000185e-01</td>\n",
       "      <td>1.006326e+00</td>\n",
       "      <td>4.749747e-01</td>\n",
       "      <td>1.009303e+00</td>\n",
       "      <td>1.005901e+00</td>\n",
       "      <td>1.027808e+00</td>\n",
       "      <td>...</td>\n",
       "      <td>1.007694e+00</td>\n",
       "      <td>1.006366e+00</td>\n",
       "      <td>1.400209e+00</td>\n",
       "      <td>6.746354e-01</td>\n",
       "      <td>3.808074e-01</td>\n",
       "      <td>1.645763e-01</td>\n",
       "      <td>3.974453e-01</td>\n",
       "      <td>5.254063e-01</td>\n",
       "      <td>3.652556e-01</td>\n",
       "      <td>3.133378e-01</td>\n",
       "    </tr>\n",
       "    <tr>\n",
       "      <th>min</th>\n",
       "      <td>0.000000e+00</td>\n",
       "      <td>2.746966e-01</td>\n",
       "      <td>-2.434976e+00</td>\n",
       "      <td>-1.742508e+00</td>\n",
       "      <td>2.370088e-04</td>\n",
       "      <td>-1.743944e+00</td>\n",
       "      <td>1.375024e-01</td>\n",
       "      <td>-2.969725e+00</td>\n",
       "      <td>-1.741237e+00</td>\n",
       "      <td>0.000000e+00</td>\n",
       "      <td>...</td>\n",
       "      <td>-2.497265e+00</td>\n",
       "      <td>-1.742691e+00</td>\n",
       "      <td>0.000000e+00</td>\n",
       "      <td>7.507046e-02</td>\n",
       "      <td>1.986757e-01</td>\n",
       "      <td>8.304866e-02</td>\n",
       "      <td>1.320062e-01</td>\n",
       "      <td>4.786215e-02</td>\n",
       "      <td>2.951122e-01</td>\n",
       "      <td>3.307214e-01</td>\n",
       "    </tr>\n",
       "    <tr>\n",
       "      <th>25%</th>\n",
       "      <td>0.000000e+00</td>\n",
       "      <td>5.907533e-01</td>\n",
       "      <td>-7.383225e-01</td>\n",
       "      <td>-8.719308e-01</td>\n",
       "      <td>5.768156e-01</td>\n",
       "      <td>-8.712081e-01</td>\n",
       "      <td>6.789927e-01</td>\n",
       "      <td>-6.872450e-01</td>\n",
       "      <td>-8.680962e-01</td>\n",
       "      <td>0.000000e+00</td>\n",
       "      <td>...</td>\n",
       "      <td>-7.141902e-01</td>\n",
       "      <td>-8.714789e-01</td>\n",
       "      <td>0.000000e+00</td>\n",
       "      <td>7.906095e-01</td>\n",
       "      <td>8.462266e-01</td>\n",
       "      <td>9.857525e-01</td>\n",
       "      <td>7.675732e-01</td>\n",
       "      <td>6.738168e-01</td>\n",
       "      <td>8.193964e-01</td>\n",
       "      <td>7.703901e-01</td>\n",
       "    </tr>\n",
       "    <tr>\n",
       "      <th>50%</th>\n",
       "      <td>1.000000e+00</td>\n",
       "      <td>8.533714e-01</td>\n",
       "      <td>-5.415563e-05</td>\n",
       "      <td>-2.410638e-04</td>\n",
       "      <td>8.916277e-01</td>\n",
       "      <td>2.125454e-04</td>\n",
       "      <td>8.948193e-01</td>\n",
       "      <td>-2.543566e-05</td>\n",
       "      <td>5.813991e-05</td>\n",
       "      <td>1.086538e+00</td>\n",
       "      <td>...</td>\n",
       "      <td>3.721330e-04</td>\n",
       "      <td>-2.642369e-04</td>\n",
       "      <td>0.000000e+00</td>\n",
       "      <td>8.949304e-01</td>\n",
       "      <td>9.506853e-01</td>\n",
       "      <td>9.897798e-01</td>\n",
       "      <td>9.165110e-01</td>\n",
       "      <td>8.733798e-01</td>\n",
       "      <td>9.473447e-01</td>\n",
       "      <td>8.719701e-01</td>\n",
       "    </tr>\n",
       "    <tr>\n",
       "      <th>75%</th>\n",
       "      <td>1.000000e+00</td>\n",
       "      <td>1.236226e+00</td>\n",
       "      <td>7.382142e-01</td>\n",
       "      <td>8.709940e-01</td>\n",
       "      <td>1.293056e+00</td>\n",
       "      <td>8.714708e-01</td>\n",
       "      <td>1.170740e+00</td>\n",
       "      <td>6.871941e-01</td>\n",
       "      <td>8.683126e-01</td>\n",
       "      <td>2.173076e+00</td>\n",
       "      <td>...</td>\n",
       "      <td>7.141017e-01</td>\n",
       "      <td>8.716055e-01</td>\n",
       "      <td>3.101961e+00</td>\n",
       "      <td>1.024730e+00</td>\n",
       "      <td>1.083493e+00</td>\n",
       "      <td>1.020528e+00</td>\n",
       "      <td>1.142226e+00</td>\n",
       "      <td>1.138439e+00</td>\n",
       "      <td>1.140458e+00</td>\n",
       "      <td>1.059248e+00</td>\n",
       "    </tr>\n",
       "    <tr>\n",
       "      <th>max</th>\n",
       "      <td>1.000000e+00</td>\n",
       "      <td>1.209891e+01</td>\n",
       "      <td>2.434868e+00</td>\n",
       "      <td>1.743236e+00</td>\n",
       "      <td>1.539682e+01</td>\n",
       "      <td>1.743257e+00</td>\n",
       "      <td>9.940391e+00</td>\n",
       "      <td>2.969674e+00</td>\n",
       "      <td>1.741454e+00</td>\n",
       "      <td>2.173076e+00</td>\n",
       "      <td>...</td>\n",
       "      <td>2.498009e+00</td>\n",
       "      <td>1.743372e+00</td>\n",
       "      <td>3.101961e+00</td>\n",
       "      <td>4.019237e+01</td>\n",
       "      <td>2.037278e+01</td>\n",
       "      <td>7.992739e+00</td>\n",
       "      <td>1.426244e+01</td>\n",
       "      <td>1.776285e+01</td>\n",
       "      <td>1.149652e+01</td>\n",
       "      <td>8.374498e+00</td>\n",
       "    </tr>\n",
       "  </tbody>\n",
       "</table>\n",
       "<p>8 rows × 29 columns</p>\n",
       "</div>"
      ],
      "text/plain": [
       "        Class Label     lepton pT    lepton eta    lepton phi  \\\n",
       "count  1.100000e+07  1.100000e+07  1.100000e+07  1.100000e+07   \n",
       "mean   5.299203e-01  9.914658e-01 -8.297618e-06 -1.327225e-05   \n",
       "std    4.991040e-01  5.653777e-01  1.008827e+00  1.006346e+00   \n",
       "min    0.000000e+00  2.746966e-01 -2.434976e+00 -1.742508e+00   \n",
       "25%    0.000000e+00  5.907533e-01 -7.383225e-01 -8.719308e-01   \n",
       "50%    1.000000e+00  8.533714e-01 -5.415563e-05 -2.410638e-04   \n",
       "75%    1.000000e+00  1.236226e+00  7.382142e-01  8.709940e-01   \n",
       "max    1.000000e+00  1.209891e+01  2.434868e+00  1.743236e+00   \n",
       "\n",
       "       missing energy magnitude  missing energy phi      jet 1 pt  \\\n",
       "count              1.100000e+07        1.100000e+07  1.100000e+07   \n",
       "mean               9.985364e-01        2.613459e-05  9.909152e-01   \n",
       "std                6.000185e-01        1.006326e+00  4.749747e-01   \n",
       "min                2.370088e-04       -1.743944e+00  1.375024e-01   \n",
       "25%                5.768156e-01       -8.712081e-01  6.789927e-01   \n",
       "50%                8.916277e-01        2.125454e-04  8.948193e-01   \n",
       "75%                1.293056e+00        8.714708e-01  1.170740e+00   \n",
       "max                1.539682e+01        1.743257e+00  9.940391e+00   \n",
       "\n",
       "          jet 1 eta     jet 1 phi   jet 1 b-tag      ...          jet 4 eta  \\\n",
       "count  1.100000e+07  1.100000e+07  1.100000e+07      ...       1.100000e+07   \n",
       "mean  -2.027520e-05  7.716199e-06  9.999687e-01      ...      -5.756954e-06   \n",
       "std    1.009303e+00  1.005901e+00  1.027808e+00      ...       1.007694e+00   \n",
       "min   -2.969725e+00 -1.741237e+00  0.000000e+00      ...      -2.497265e+00   \n",
       "25%   -6.872450e-01 -8.680962e-01  0.000000e+00      ...      -7.141902e-01   \n",
       "50%   -2.543566e-05  5.813991e-05  1.086538e+00      ...       3.721330e-04   \n",
       "75%    6.871941e-01  8.683126e-01  2.173076e+00      ...       7.141017e-01   \n",
       "max    2.969674e+00  1.741454e+00  2.173076e+00      ...       2.498009e+00   \n",
       "\n",
       "          jet 4 phi   jet 4 b-tag          m_jj         m_jjj          m_lv  \\\n",
       "count  1.100000e+07  1.100000e+07  1.100000e+07  1.100000e+07  1.100000e+07   \n",
       "mean   1.744903e-05  1.000000e+00  1.034290e+00  1.024805e+00  1.050554e+00   \n",
       "std    1.006366e+00  1.400209e+00  6.746354e-01  3.808074e-01  1.645763e-01   \n",
       "min   -1.742691e+00  0.000000e+00  7.507046e-02  1.986757e-01  8.304866e-02   \n",
       "25%   -8.714789e-01  0.000000e+00  7.906095e-01  8.462266e-01  9.857525e-01   \n",
       "50%   -2.642369e-04  0.000000e+00  8.949304e-01  9.506853e-01  9.897798e-01   \n",
       "75%    8.716055e-01  3.101961e+00  1.024730e+00  1.083493e+00  1.020528e+00   \n",
       "max    1.743372e+00  3.101961e+00  4.019237e+01  2.037278e+01  7.992739e+00   \n",
       "\n",
       "              m_jlv          m_bb         m_wbb        m_wwbb  \n",
       "count  1.100000e+07  1.100000e+07  1.100000e+07  1.100000e+07  \n",
       "mean   1.009742e+00  9.729596e-01  1.033036e+00  9.598120e-01  \n",
       "std    3.974453e-01  5.254063e-01  3.652556e-01  3.133378e-01  \n",
       "min    1.320062e-01  4.786215e-02  2.951122e-01  3.307214e-01  \n",
       "25%    7.675732e-01  6.738168e-01  8.193964e-01  7.703901e-01  \n",
       "50%    9.165110e-01  8.733798e-01  9.473447e-01  8.719701e-01  \n",
       "75%    1.142226e+00  1.138439e+00  1.140458e+00  1.059248e+00  \n",
       "max    1.426244e+01  1.776285e+01  1.149652e+01  8.374498e+00  \n",
       "\n",
       "[8 rows x 29 columns]"
      ]
     },
     "execution_count": 6,
     "metadata": {},
     "output_type": "execute_result"
    }
   ],
   "source": [
    "df.describe()"
   ]
  },
  {
   "cell_type": "code",
   "execution_count": 7,
   "metadata": {},
   "outputs": [
    {
     "data": {
      "text/plain": [
       "False"
      ]
     },
     "execution_count": 7,
     "metadata": {},
     "output_type": "execute_result"
    }
   ],
   "source": [
    "df.isnull().values.any()"
   ]
  },
  {
   "cell_type": "code",
   "execution_count": 7,
   "metadata": {},
   "outputs": [
    {
     "data": {
      "text/html": [
       "<div>\n",
       "<style>\n",
       "    .dataframe thead tr:only-child th {\n",
       "        text-align: right;\n",
       "    }\n",
       "\n",
       "    .dataframe thead th {\n",
       "        text-align: left;\n",
       "    }\n",
       "\n",
       "    .dataframe tbody tr th {\n",
       "        vertical-align: top;\n",
       "    }\n",
       "</style>\n",
       "<table border=\"1\" class=\"dataframe\">\n",
       "  <thead>\n",
       "    <tr style=\"text-align: right;\">\n",
       "      <th></th>\n",
       "      <th>lepton pT</th>\n",
       "      <th>lepton eta</th>\n",
       "      <th>lepton phi</th>\n",
       "      <th>missing energy magnitude</th>\n",
       "      <th>missing energy phi</th>\n",
       "      <th>jet 1 pt</th>\n",
       "      <th>jet 1 eta</th>\n",
       "      <th>jet 1 phi</th>\n",
       "      <th>jet 1 b-tag</th>\n",
       "      <th>jet 2 pt</th>\n",
       "      <th>...</th>\n",
       "      <th>jet 4 eta</th>\n",
       "      <th>jet 4 phi</th>\n",
       "      <th>jet 4 b-tag</th>\n",
       "      <th>m_jj</th>\n",
       "      <th>m_jjj</th>\n",
       "      <th>m_lv</th>\n",
       "      <th>m_jlv</th>\n",
       "      <th>m_bb</th>\n",
       "      <th>m_wbb</th>\n",
       "      <th>m_wwbb</th>\n",
       "    </tr>\n",
       "  </thead>\n",
       "  <tbody>\n",
       "    <tr>\n",
       "      <th>0</th>\n",
       "      <td>0.869293</td>\n",
       "      <td>-0.635082</td>\n",
       "      <td>0.225690</td>\n",
       "      <td>0.327470</td>\n",
       "      <td>-0.689993</td>\n",
       "      <td>0.754202</td>\n",
       "      <td>-0.248573</td>\n",
       "      <td>-1.092064</td>\n",
       "      <td>0.000000</td>\n",
       "      <td>1.374992</td>\n",
       "      <td>...</td>\n",
       "      <td>-0.010455</td>\n",
       "      <td>-0.045767</td>\n",
       "      <td>3.101961</td>\n",
       "      <td>1.353760</td>\n",
       "      <td>0.979563</td>\n",
       "      <td>0.978076</td>\n",
       "      <td>0.920005</td>\n",
       "      <td>0.721657</td>\n",
       "      <td>0.988751</td>\n",
       "      <td>0.876678</td>\n",
       "    </tr>\n",
       "    <tr>\n",
       "      <th>1</th>\n",
       "      <td>0.907542</td>\n",
       "      <td>0.329147</td>\n",
       "      <td>0.359412</td>\n",
       "      <td>1.497970</td>\n",
       "      <td>-0.313010</td>\n",
       "      <td>1.095531</td>\n",
       "      <td>-0.557525</td>\n",
       "      <td>-1.588230</td>\n",
       "      <td>2.173076</td>\n",
       "      <td>0.812581</td>\n",
       "      <td>...</td>\n",
       "      <td>-1.138930</td>\n",
       "      <td>-0.000819</td>\n",
       "      <td>0.000000</td>\n",
       "      <td>0.302220</td>\n",
       "      <td>0.833048</td>\n",
       "      <td>0.985700</td>\n",
       "      <td>0.978098</td>\n",
       "      <td>0.779732</td>\n",
       "      <td>0.992356</td>\n",
       "      <td>0.798343</td>\n",
       "    </tr>\n",
       "    <tr>\n",
       "      <th>2</th>\n",
       "      <td>0.798835</td>\n",
       "      <td>1.470639</td>\n",
       "      <td>-1.635975</td>\n",
       "      <td>0.453773</td>\n",
       "      <td>0.425629</td>\n",
       "      <td>1.104875</td>\n",
       "      <td>1.282322</td>\n",
       "      <td>1.381664</td>\n",
       "      <td>0.000000</td>\n",
       "      <td>0.851737</td>\n",
       "      <td>...</td>\n",
       "      <td>1.128848</td>\n",
       "      <td>0.900461</td>\n",
       "      <td>0.000000</td>\n",
       "      <td>0.909753</td>\n",
       "      <td>1.108330</td>\n",
       "      <td>0.985692</td>\n",
       "      <td>0.951331</td>\n",
       "      <td>0.803252</td>\n",
       "      <td>0.865924</td>\n",
       "      <td>0.780118</td>\n",
       "    </tr>\n",
       "    <tr>\n",
       "      <th>3</th>\n",
       "      <td>1.344385</td>\n",
       "      <td>-0.876626</td>\n",
       "      <td>0.935913</td>\n",
       "      <td>1.992050</td>\n",
       "      <td>0.882454</td>\n",
       "      <td>1.786066</td>\n",
       "      <td>-1.646778</td>\n",
       "      <td>-0.942383</td>\n",
       "      <td>0.000000</td>\n",
       "      <td>2.423265</td>\n",
       "      <td>...</td>\n",
       "      <td>-0.678379</td>\n",
       "      <td>-1.360356</td>\n",
       "      <td>0.000000</td>\n",
       "      <td>0.946652</td>\n",
       "      <td>1.028704</td>\n",
       "      <td>0.998656</td>\n",
       "      <td>0.728281</td>\n",
       "      <td>0.869200</td>\n",
       "      <td>1.026736</td>\n",
       "      <td>0.957904</td>\n",
       "    </tr>\n",
       "    <tr>\n",
       "      <th>4</th>\n",
       "      <td>1.105009</td>\n",
       "      <td>0.321356</td>\n",
       "      <td>1.522401</td>\n",
       "      <td>0.882808</td>\n",
       "      <td>-1.205349</td>\n",
       "      <td>0.681466</td>\n",
       "      <td>-1.070464</td>\n",
       "      <td>-0.921871</td>\n",
       "      <td>0.000000</td>\n",
       "      <td>0.800872</td>\n",
       "      <td>...</td>\n",
       "      <td>-0.373566</td>\n",
       "      <td>0.113041</td>\n",
       "      <td>0.000000</td>\n",
       "      <td>0.755856</td>\n",
       "      <td>1.361057</td>\n",
       "      <td>0.986610</td>\n",
       "      <td>0.838085</td>\n",
       "      <td>1.133295</td>\n",
       "      <td>0.872245</td>\n",
       "      <td>0.808487</td>\n",
       "    </tr>\n",
       "  </tbody>\n",
       "</table>\n",
       "<p>5 rows × 28 columns</p>\n",
       "</div>"
      ],
      "text/plain": [
       "   lepton pT  lepton eta  lepton phi  missing energy magnitude  \\\n",
       "0   0.869293   -0.635082    0.225690                  0.327470   \n",
       "1   0.907542    0.329147    0.359412                  1.497970   \n",
       "2   0.798835    1.470639   -1.635975                  0.453773   \n",
       "3   1.344385   -0.876626    0.935913                  1.992050   \n",
       "4   1.105009    0.321356    1.522401                  0.882808   \n",
       "\n",
       "   missing energy phi  jet 1 pt  jet 1 eta  jet 1 phi  jet 1 b-tag  jet 2 pt  \\\n",
       "0           -0.689993  0.754202  -0.248573  -1.092064     0.000000  1.374992   \n",
       "1           -0.313010  1.095531  -0.557525  -1.588230     2.173076  0.812581   \n",
       "2            0.425629  1.104875   1.282322   1.381664     0.000000  0.851737   \n",
       "3            0.882454  1.786066  -1.646778  -0.942383     0.000000  2.423265   \n",
       "4           -1.205349  0.681466  -1.070464  -0.921871     0.000000  0.800872   \n",
       "\n",
       "     ...     jet 4 eta  jet 4 phi  jet 4 b-tag      m_jj     m_jjj      m_lv  \\\n",
       "0    ...     -0.010455  -0.045767     3.101961  1.353760  0.979563  0.978076   \n",
       "1    ...     -1.138930  -0.000819     0.000000  0.302220  0.833048  0.985700   \n",
       "2    ...      1.128848   0.900461     0.000000  0.909753  1.108330  0.985692   \n",
       "3    ...     -0.678379  -1.360356     0.000000  0.946652  1.028704  0.998656   \n",
       "4    ...     -0.373566   0.113041     0.000000  0.755856  1.361057  0.986610   \n",
       "\n",
       "      m_jlv      m_bb     m_wbb    m_wwbb  \n",
       "0  0.920005  0.721657  0.988751  0.876678  \n",
       "1  0.978098  0.779732  0.992356  0.798343  \n",
       "2  0.951331  0.803252  0.865924  0.780118  \n",
       "3  0.728281  0.869200  1.026736  0.957904  \n",
       "4  0.838085  1.133295  0.872245  0.808487  \n",
       "\n",
       "[5 rows x 28 columns]"
      ]
     },
     "execution_count": 7,
     "metadata": {},
     "output_type": "execute_result"
    }
   ],
   "source": [
    "labels = df[\"Class Label\"]\n",
    "labels.head()\n",
    "\n",
    "df.drop([\"Class Label\"], axis=1, inplace=True)\n",
    "df.head()"
   ]
  },
  {
   "cell_type": "code",
   "execution_count": 8,
   "metadata": {
    "collapsed": true
   },
   "outputs": [],
   "source": [
    "#Try using decision tree\n",
    "scaler = StandardScaler()\n",
    "scaler.fit(df)\n",
    "scaled_X_vals = scaler.transform(df)\n",
    "X_train, X_test, y_train, y_test = train_test_split(scaled_X_vals, labels, test_size=0.5)\n"
   ]
  },
  {
   "cell_type": "code",
   "execution_count": 11,
   "metadata": {},
   "outputs": [
    {
     "name": "stdout",
     "output_type": "stream",
     "text": [
      "f1 score: 0.6783970129475747\n"
     ]
    }
   ],
   "source": [
    "clf = DecisionTreeClassifier()\n",
    "fitted = clf.fit(X_train, y_train, callbacks=)\n",
    "y_pred = clf.predict(X_test)\n",
    "\n",
    "f1 = f1_score(y_test, y_pred)\n",
    "print(\"f1 score: {}\".format(f1))"
   ]
  },
  {
   "cell_type": "code",
   "execution_count": 12,
   "metadata": {
    "collapsed": true
   },
   "outputs": [],
   "source": [
    "\n",
    "# from sklearn import tree\n",
    "# import graphviz\n",
    "# dot_data = tree.export_graphviz(clf, out_file=None, \n",
    "#                          feature_names=df.keys(),  \n",
    "#                          class_names=[\"No Higgs\",\"Higgs\"],  \n",
    "#                          filled=True, rounded=True,  \n",
    "#                          special_characters=True)\n",
    "# graph = graphviz.Source(dot_data)\n",
    "# graph\n",
    "#Takes too long\n"
   ]
  },
  {
   "cell_type": "code",
   "execution_count": 9,
   "metadata": {},
   "outputs": [
    {
     "data": {
      "text/plain": [
       "(5500000, 28)"
      ]
     },
     "execution_count": 9,
     "metadata": {},
     "output_type": "execute_result"
    }
   ],
   "source": [
    "X_train.shape"
   ]
  },
  {
   "cell_type": "code",
   "execution_count": 10,
   "metadata": {
    "collapsed": true
   },
   "outputs": [],
   "source": [
    "loss_result = []\n",
    "accuracy_result = []\n",
    "label_result = []"
   ]
  },
  {
   "cell_type": "code",
   "execution_count": 11,
   "metadata": {},
   "outputs": [
    {
     "name": "stdout",
     "output_type": "stream",
     "text": [
      "_________________________________________________________________\n",
      "Layer (type)                 Output Shape              Param #   \n",
      "=================================================================\n",
      "dense_1 (Dense)              (None, 28)                812       \n",
      "_________________________________________________________________\n",
      "dense_2 (Dense)              (None, 16)                464       \n",
      "_________________________________________________________________\n",
      "dense_3 (Dense)              (None, 4)                 68        \n",
      "_________________________________________________________________\n",
      "dense_4 (Dense)              (None, 1)                 5         \n",
      "=================================================================\n",
      "Total params: 1,349\n",
      "Trainable params: 1,349\n",
      "Non-trainable params: 0\n",
      "_________________________________________________________________\n"
     ]
    }
   ],
   "source": [
    "from keras.models import Sequential\n",
    "from keras.layers import Dense\n",
    "seq_model = Sequential()\n",
    "seq_model.add(Dense(28, activation='sigmoid', input_shape=(28,)))\n",
    "seq_model.add(Dense(16, activation='sigmoid'))\n",
    "seq_model.add(Dense(4, activation='sigmoid'))\n",
    "seq_model.add(Dense(1, activation='sigmoid'))\n",
    "seq_model.compile(loss='binary_crossentropy', optimizer='SGD', metrics=['accuracy'])\n",
    "seq_model.summary()"
   ]
  },
  {
   "cell_type": "code",
   "execution_count": null,
   "metadata": {
    "collapsed": true
   },
   "outputs": [],
   "source": []
  },
  {
   "cell_type": "code",
   "execution_count": 12,
   "metadata": {},
   "outputs": [
    {
     "name": "stdout",
     "output_type": "stream",
     "text": [
      "Train on 5500000 samples, validate on 5500000 samples\n",
      "Epoch 1/10\n",
      "5500000/5500000 [==============================] - 174s 32us/step - loss: 0.6638 - acc: 0.5927 - val_loss: 0.6338 - val_acc: 0.6409\n",
      "Epoch 2/10\n",
      "5500000/5500000 [==============================] - 151s 28us/step - loss: 0.6255 - acc: 0.6552 - val_loss: 0.6171 - val_acc: 0.6653\n",
      "Epoch 3/10\n",
      "5500000/5500000 [==============================] - 146s 27us/step - loss: 0.6027 - acc: 0.6777 - val_loss: 0.5869 - val_acc: 0.6909\n",
      "Epoch 4/10\n",
      "5500000/5500000 [==============================] - 155s 28us/step - loss: 0.5770 - acc: 0.6986 - val_loss: 0.5691 - val_acc: 0.7055\n",
      "Epoch 5/10\n",
      "5500000/5500000 [==============================] - 154s 28us/step - loss: 0.5605 - acc: 0.7105 - val_loss: 0.5543 - val_acc: 0.7151\n",
      "Epoch 6/10\n",
      "5500000/5500000 [==============================] - 154s 28us/step - loss: 0.5507 - acc: 0.7171 - val_loss: 0.5467 - val_acc: 0.7193\n",
      "Epoch 7/10\n",
      "5500000/5500000 [==============================] - 150s 27us/step - loss: 0.5453 - acc: 0.7204 - val_loss: 0.5433 - val_acc: 0.7218\n",
      "Epoch 8/10\n",
      "5500000/5500000 [==============================] - 141s 26us/step - loss: 0.5416 - acc: 0.7229 - val_loss: 0.5396 - val_acc: 0.7240\n",
      "Epoch 9/10\n",
      "5500000/5500000 [==============================] - 148s 27us/step - loss: 0.5387 - acc: 0.7248 - val_loss: 0.5366 - val_acc: 0.7262\n",
      "Epoch 10/10\n",
      "5500000/5500000 [==============================] - 187s 34us/step - loss: 0.5361 - acc: 0.7266 - val_loss: 0.5344 - val_acc: 0.7277\n"
     ]
    },
    {
     "data": {
      "text/plain": [
       "<keras.callbacks.History at 0x1c1988f748>"
      ]
     },
     "execution_count": 12,
     "metadata": {},
     "output_type": "execute_result"
    }
   ],
   "source": [
    "seq_model.fit(X_train, y_train, \n",
    "              batch_size=64, epochs=10, \n",
    "              verbose=1, validation_data=(X_test, y_test),\n",
    "              callbacks=[callback])"
   ]
  },
  {
   "cell_type": "code",
   "execution_count": 17,
   "metadata": {
    "collapsed": true
   },
   "outputs": [],
   "source": [
    "loss_result.append(\".550\")\n",
    "accuracy_result.append(\".71\")\n",
    "label_result.append(\"4LySigBinCrosSGD\")"
   ]
  },
  {
   "cell_type": "code",
   "execution_count": 18,
   "metadata": {},
   "outputs": [
    {
     "name": "stdout",
     "output_type": "stream",
     "text": [
      "_________________________________________________________________\n",
      "Layer (type)                 Output Shape              Param #   \n",
      "=================================================================\n",
      "dense_5 (Dense)              (None, 28)                812       \n",
      "_________________________________________________________________\n",
      "dense_6 (Dense)              (None, 16)                464       \n",
      "_________________________________________________________________\n",
      "dense_7 (Dense)              (None, 4)                 68        \n",
      "_________________________________________________________________\n",
      "dense_8 (Dense)              (None, 1)                 5         \n",
      "=================================================================\n",
      "Total params: 1,349\n",
      "Trainable params: 1,349\n",
      "Non-trainable params: 0\n",
      "_________________________________________________________________\n"
     ]
    }
   ],
   "source": [
    "tanh_model = Sequential()\n",
    "tanh_model.add(Dense(28, activation='tanh', input_shape=(28,)))\n",
    "tanh_model.add(Dense(16, activation='tanh'))\n",
    "tanh_model.add(Dense(4, activation='tanh'))\n",
    "tanh_model.add(Dense(1, activation='tanh'))\n",
    "tanh_model.compile(loss='binary_crossentropy', optimizer='SGD', metrics=['accuracy'])\n",
    "tanh_model.summary()"
   ]
  },
  {
   "cell_type": "code",
   "execution_count": 19,
   "metadata": {},
   "outputs": [
    {
     "name": "stdout",
     "output_type": "stream",
     "text": [
      "Train on 5500000 samples, validate on 5500000 samples\n",
      "Epoch 1/10\n",
      "5500000/5500000 [==============================] - 156s 28us/step - loss: 0.5979 - acc: 0.6792 - val_loss: 0.5634 - val_acc: 0.7088\n",
      "Epoch 2/10\n",
      "5500000/5500000 [==============================] - 216s 39us/step - loss: 0.5598 - acc: 0.7115 - val_loss: 0.5496 - val_acc: 0.7173\n",
      "Epoch 3/10\n",
      "5500000/5500000 [==============================] - 226s 41us/step - loss: 0.5980 - acc: 0.7123 - val_loss: 0.5396 - val_acc: 0.7234\n",
      "Epoch 4/10\n",
      "5500000/5500000 [==============================] - 150s 27us/step - loss: 0.7252 - acc: 0.6835 - val_loss: 0.5662 - val_acc: 0.7042\n",
      "Epoch 5/10\n",
      "5500000/5500000 [==============================] - 136s 25us/step - loss: 0.5559 - acc: 0.7166 - val_loss: 0.5423 - val_acc: 0.7227\n",
      "Epoch 6/10\n",
      "5500000/5500000 [==============================] - 135s 25us/step - loss: 0.5707 - acc: 0.7230 - val_loss: 0.5371 - val_acc: 0.7261\n",
      "Epoch 7/10\n",
      "5500000/5500000 [==============================] - 143s 26us/step - loss: 3.6289 - acc: 0.6393 - val_loss: 7.4909 - val_acc: 0.5301\n",
      "Epoch 8/10\n",
      "5500000/5500000 [==============================] - 143s 26us/step - loss: 7.4975 - acc: 0.5297 - val_loss: 7.4909 - val_acc: 0.5301\n",
      "Epoch 9/10\n",
      "5500000/5500000 [==============================] - 135s 25us/step - loss: 7.4975 - acc: 0.5297 - val_loss: 7.4909 - val_acc: 0.5301\n",
      "Epoch 10/10\n",
      "5500000/5500000 [==============================] - 135s 25us/step - loss: 7.4975 - acc: 0.5297 - val_loss: 7.4909 - val_acc: 0.5301\n"
     ]
    },
    {
     "data": {
      "text/plain": [
       "<keras.callbacks.History at 0x1a2372b080>"
      ]
     },
     "execution_count": 19,
     "metadata": {},
     "output_type": "execute_result"
    }
   ],
   "source": [
    "tanh_model.fit(X_train, y_train, batch_size=64, epochs=10, verbose=1, validation_data=(X_test, y_test))"
   ]
  },
  {
   "cell_type": "code",
   "execution_count": 20,
   "metadata": {
    "collapsed": true
   },
   "outputs": [],
   "source": [
    "loss_result.append(\".71\")\n",
    "accuracy_result.append(\".52\")\n",
    "label_result.append(\"3LyTanhBinCrosSGD\")"
   ]
  },
  {
   "cell_type": "code",
   "execution_count": 21,
   "metadata": {},
   "outputs": [
    {
     "name": "stdout",
     "output_type": "stream",
     "text": [
      "_________________________________________________________________\n",
      "Layer (type)                 Output Shape              Param #   \n",
      "=================================================================\n",
      "dense_9 (Dense)              (None, 28)                812       \n",
      "_________________________________________________________________\n",
      "dense_10 (Dense)             (None, 10)                290       \n",
      "_________________________________________________________________\n",
      "dense_11 (Dense)             (None, 1)                 11        \n",
      "=================================================================\n",
      "Total params: 1,113\n",
      "Trainable params: 1,113\n",
      "Non-trainable params: 0\n",
      "_________________________________________________________________\n"
     ]
    }
   ],
   "source": [
    "two_lay = Sequential()\n",
    "two_lay.add(Dense(28, activation='sigmoid', input_shape=(28,)))\n",
    "two_lay.add(Dense(10, activation='sigmoid'))\n",
    "two_lay.add(Dense(1, activation='sigmoid'))\n",
    "two_lay.compile(loss='binary_crossentropy', optimizer='SGD', metrics=['accuracy'])\n",
    "two_lay.summary()"
   ]
  },
  {
   "cell_type": "code",
   "execution_count": 22,
   "metadata": {},
   "outputs": [
    {
     "name": "stdout",
     "output_type": "stream",
     "text": [
      "Train on 5500000 samples, validate on 5500000 samples\n",
      "Epoch 1/5\n",
      "5500000/5500000 [==============================] - 131s 24us/step - loss: 0.6472 - acc: 0.6181 - val_loss: 0.6269 - val_acc: 0.6490\n",
      "Epoch 2/5\n",
      "5500000/5500000 [==============================] - 131s 24us/step - loss: 0.6111 - acc: 0.6653 - val_loss: 0.5930 - val_acc: 0.6837\n",
      "Epoch 3/5\n",
      "5500000/5500000 [==============================] - 146s 27us/step - loss: 0.5813 - acc: 0.6934 - val_loss: 0.5720 - val_acc: 0.7005\n",
      "Epoch 4/5\n",
      "5500000/5500000 [==============================] - 191s 35us/step - loss: 0.5668 - acc: 0.7044 - val_loss: 0.5616 - val_acc: 0.7077\n",
      "Epoch 5/5\n",
      "5500000/5500000 [==============================] - 162s 30us/step - loss: 0.5583 - acc: 0.7111 - val_loss: 0.5546 - val_acc: 0.7144\n"
     ]
    },
    {
     "data": {
      "text/plain": [
       "<keras.callbacks.History at 0x1a9aa0ef60>"
      ]
     },
     "execution_count": 22,
     "metadata": {},
     "output_type": "execute_result"
    }
   ],
   "source": [
    "two_lay.fit(X_train, y_train, batch_size=64, epochs=5, verbose=1, validation_data=(X_test, y_test))"
   ]
  },
  {
   "cell_type": "code",
   "execution_count": 23,
   "metadata": {
    "collapsed": true
   },
   "outputs": [],
   "source": [
    "loss_result.append(\".55\")\n",
    "accuracy_result.append(\".71\")\n",
    "label_result.append(\"3LySigBinCrosSGD\")"
   ]
  },
  {
   "cell_type": "code",
   "execution_count": 24,
   "metadata": {},
   "outputs": [
    {
     "name": "stdout",
     "output_type": "stream",
     "text": [
      "_________________________________________________________________\n",
      "Layer (type)                 Output Shape              Param #   \n",
      "=================================================================\n",
      "dense_12 (Dense)             (None, 28)                812       \n",
      "_________________________________________________________________\n",
      "dense_13 (Dense)             (None, 10)                290       \n",
      "_________________________________________________________________\n",
      "dense_14 (Dense)             (None, 1)                 11        \n",
      "=================================================================\n",
      "Total params: 1,113\n",
      "Trainable params: 1,113\n",
      "Non-trainable params: 0\n",
      "_________________________________________________________________\n"
     ]
    }
   ],
   "source": [
    "two_lay = Sequential()\n",
    "two_lay.add(Dense(28, activation='sigmoid', input_shape=(28,)))\n",
    "two_lay.add(Dense(10, activation='sigmoid'))\n",
    "two_lay.add(Dense(1, activation='sigmoid'))\n",
    "two_lay.compile(loss='binary_crossentropy', optimizer='adam', metrics=['accuracy'])\n",
    "two_lay.summary()"
   ]
  },
  {
   "cell_type": "code",
   "execution_count": 25,
   "metadata": {},
   "outputs": [
    {
     "name": "stdout",
     "output_type": "stream",
     "text": [
      "Train on 5500000 samples, validate on 5500000 samples\n",
      "Epoch 1/6\n",
      "5500000/5500000 [==============================] - 162s 29us/step - loss: 0.5544 - acc: 0.7112 - val_loss: 0.5339 - val_acc: 0.7271\n",
      "Epoch 2/6\n",
      "5500000/5500000 [==============================] - 182s 33us/step - loss: 0.5283 - acc: 0.7311 - val_loss: 0.5237 - val_acc: 0.7341\n",
      "Epoch 3/6\n",
      "5500000/5500000 [==============================] - 163s 30us/step - loss: 0.5231 - acc: 0.7342 - val_loss: 0.5210 - val_acc: 0.7355\n",
      "Epoch 4/6\n",
      "5500000/5500000 [==============================] - 149s 27us/step - loss: 0.5207 - acc: 0.7358 - val_loss: 0.5193 - val_acc: 0.7367\n",
      "Epoch 5/6\n",
      "5500000/5500000 [==============================] - 191s 35us/step - loss: 0.5191 - acc: 0.7368 - val_loss: 0.5193 - val_acc: 0.7368\n",
      "Epoch 6/6\n",
      "5500000/5500000 [==============================] - 160s 29us/step - loss: 0.5181 - acc: 0.7375 - val_loss: 0.5170 - val_acc: 0.7379\n"
     ]
    },
    {
     "data": {
      "text/plain": [
       "<keras.callbacks.History at 0x1a9aa0e2e8>"
      ]
     },
     "execution_count": 25,
     "metadata": {},
     "output_type": "execute_result"
    }
   ],
   "source": [
    "two_lay.fit(X_train, y_train, batch_size=64, epochs=6, verbose=1, validation_data=(X_test, y_test))"
   ]
  },
  {
   "cell_type": "code",
   "execution_count": 26,
   "metadata": {
    "collapsed": true
   },
   "outputs": [],
   "source": [
    "loss_result.append(\".52\")\n",
    "accuracy_result.append(\".73\")\n",
    "label_result.append(\"3LySigBinCrosAdam\")"
   ]
  },
  {
   "cell_type": "code",
   "execution_count": null,
   "metadata": {
    "collapsed": true
   },
   "outputs": [],
   "source": []
  },
  {
   "cell_type": "code",
   "execution_count": 27,
   "metadata": {},
   "outputs": [
    {
     "name": "stdout",
     "output_type": "stream",
     "text": [
      "_________________________________________________________________\n",
      "Layer (type)                 Output Shape              Param #   \n",
      "=================================================================\n",
      "dense_15 (Dense)             (None, 28)                812       \n",
      "_________________________________________________________________\n",
      "dense_16 (Dense)             (None, 10)                290       \n",
      "_________________________________________________________________\n",
      "dense_17 (Dense)             (None, 1)                 11        \n",
      "=================================================================\n",
      "Total params: 1,113\n",
      "Trainable params: 1,113\n",
      "Non-trainable params: 0\n",
      "_________________________________________________________________\n"
     ]
    }
   ],
   "source": [
    "rms_prop = Sequential()\n",
    "rms_prop.add(Dense(28, activation='sigmoid', input_shape=(28,)))\n",
    "rms_prop.add(Dense(10, activation='sigmoid'))\n",
    "rms_prop.add(Dense(1, activation='sigmoid'))\n",
    "rms_prop.compile(loss='binary_crossentropy', optimizer='rmsprop', metrics=['accuracy'])\n",
    "rms_prop.summary()"
   ]
  },
  {
   "cell_type": "code",
   "execution_count": 28,
   "metadata": {},
   "outputs": [
    {
     "name": "stdout",
     "output_type": "stream",
     "text": [
      "Train on 5500000 samples, validate on 5500000 samples\n",
      "Epoch 1/6\n",
      "5500000/5500000 [==============================] - 156s 28us/step - loss: 0.5594 - acc: 0.7074 - val_loss: 0.5351 - val_acc: 0.7264\n",
      "Epoch 2/6\n",
      "5500000/5500000 [==============================] - 174s 32us/step - loss: 0.5299 - acc: 0.7299 - val_loss: 0.5253 - val_acc: 0.7331\n",
      "Epoch 3/6\n",
      "5500000/5500000 [==============================] - 151s 28us/step - loss: 0.5239 - acc: 0.7341 - val_loss: 0.5237 - val_acc: 0.7344\n",
      "Epoch 4/6\n",
      "5500000/5500000 [==============================] - 180s 33us/step - loss: 0.5216 - acc: 0.7358 - val_loss: 0.5246 - val_acc: 0.7332\n",
      "Epoch 5/6\n",
      "5500000/5500000 [==============================] - 202s 37us/step - loss: 0.5203 - acc: 0.7366 - val_loss: 0.5195 - val_acc: 0.7370\n",
      "Epoch 6/6\n",
      "5500000/5500000 [==============================] - 175s 32us/step - loss: 0.5193 - acc: 0.7373 - val_loss: 0.5190 - val_acc: 0.7376\n"
     ]
    },
    {
     "data": {
      "text/plain": [
       "<keras.callbacks.History at 0x1a39e66400>"
      ]
     },
     "execution_count": 28,
     "metadata": {},
     "output_type": "execute_result"
    }
   ],
   "source": [
    "rms_prop.fit(X_train, y_train, batch_size=64, epochs=6, verbose=1, validation_data=(X_test, y_test))"
   ]
  },
  {
   "cell_type": "code",
   "execution_count": 29,
   "metadata": {
    "collapsed": true
   },
   "outputs": [],
   "source": [
    "loss_result.append(\".51\")\n",
    "accuracy_result.append(\".73\")\n",
    "label_result.append(\"3LySigBinCrosRMSP\")"
   ]
  },
  {
   "cell_type": "code",
   "execution_count": 30,
   "metadata": {},
   "outputs": [
    {
     "name": "stdout",
     "output_type": "stream",
     "text": [
      "_________________________________________________________________\n",
      "Layer (type)                 Output Shape              Param #   \n",
      "=================================================================\n",
      "dense_18 (Dense)             (None, 28)                812       \n",
      "_________________________________________________________________\n",
      "dense_19 (Dense)             (None, 10)                290       \n",
      "_________________________________________________________________\n",
      "dense_20 (Dense)             (None, 1)                 11        \n",
      "=================================================================\n",
      "Total params: 1,113\n",
      "Trainable params: 1,113\n",
      "Non-trainable params: 0\n",
      "_________________________________________________________________\n"
     ]
    }
   ],
   "source": [
    "kld = Sequential()\n",
    "kld.add(Dense(28, activation='sigmoid', input_shape=(28,)))\n",
    "kld.add(Dense(10, activation='sigmoid'))\n",
    "kld.add(Dense(1, activation='sigmoid'))\n",
    "kld.compile(loss='kullback_leibler_divergence', optimizer='rmsprop', metrics=['accuracy'])\n",
    "kld.summary()\n"
   ]
  },
  {
   "cell_type": "code",
   "execution_count": 31,
   "metadata": {},
   "outputs": [
    {
     "name": "stdout",
     "output_type": "stream",
     "text": [
      "Train on 5500000 samples, validate on 5500000 samples\n",
      "Epoch 1/6\n",
      "5500000/5500000 [==============================] - 151s 27us/step - loss: 0.5172 - acc: 0.7380 - val_loss: 0.5173 - val_acc: 0.7376\n",
      "Epoch 2/6\n",
      "5500000/5500000 [==============================] - 159s 29us/step - loss: 0.5166 - acc: 0.7383 - val_loss: 0.5166 - val_acc: 0.7382\n",
      "Epoch 3/6\n",
      "5500000/5500000 [==============================] - 166s 30us/step - loss: 0.5162 - acc: 0.7385 - val_loss: 0.5172 - val_acc: 0.7378\n",
      "Epoch 4/6\n",
      "5500000/5500000 [==============================] - 152s 28us/step - loss: 0.5158 - acc: 0.7388 - val_loss: 0.5149 - val_acc: 0.7396\n",
      "Epoch 5/6\n",
      "5500000/5500000 [==============================] - 176s 32us/step - loss: 0.5156 - acc: 0.7387 - val_loss: 0.5152 - val_acc: 0.7391\n",
      "Epoch 6/6\n",
      "5500000/5500000 [==============================] - 214s 39us/step - loss: 0.5155 - acc: 0.7391 - val_loss: 0.5144 - val_acc: 0.7398\n"
     ]
    },
    {
     "data": {
      "text/plain": [
       "<keras.callbacks.History at 0x1a9aa260b8>"
      ]
     },
     "execution_count": 31,
     "metadata": {},
     "output_type": "execute_result"
    }
   ],
   "source": [
    "two_lay.fit(X_train, y_train, batch_size=64, epochs=6, verbose=1, validation_data=(X_test, y_test))"
   ]
  },
  {
   "cell_type": "code",
   "execution_count": 32,
   "metadata": {
    "collapsed": true
   },
   "outputs": [],
   "source": [
    "loss_result.append(\".51\")\n",
    "accuracy_result.append(\".74\")\n",
    "label_result.append(\"3LySigBinCrosAdam2nd\")"
   ]
  },
  {
   "cell_type": "code",
   "execution_count": 33,
   "metadata": {},
   "outputs": [
    {
     "name": "stdout",
     "output_type": "stream",
     "text": [
      "_________________________________________________________________\n",
      "Layer (type)                 Output Shape              Param #   \n",
      "=================================================================\n",
      "dense_21 (Dense)             (None, 28)                812       \n",
      "_________________________________________________________________\n",
      "dense_22 (Dense)             (None, 10)                290       \n",
      "_________________________________________________________________\n",
      "dense_23 (Dense)             (None, 1)                 11        \n",
      "=================================================================\n",
      "Total params: 1,113\n",
      "Trainable params: 1,113\n",
      "Non-trainable params: 0\n",
      "_________________________________________________________________\n"
     ]
    }
   ],
   "source": [
    "poisson = Sequential()\n",
    "poisson.add(Dense(28, activation='sigmoid', input_shape=(28,)))\n",
    "poisson.add(Dense(10, activation='sigmoid'))\n",
    "poisson.add(Dense(1, activation='sigmoid'))\n",
    "poisson.compile(loss='poisson', optimizer='rmsprop', metrics=['accuracy'])\n",
    "poisson.summary()"
   ]
  },
  {
   "cell_type": "code",
   "execution_count": 34,
   "metadata": {},
   "outputs": [
    {
     "name": "stdout",
     "output_type": "stream",
     "text": [
      "Train on 5500000 samples, validate on 5500000 samples\n",
      "Epoch 1/6\n",
      "5500000/5500000 [==============================] - 211s 38us/step - loss: 0.5153 - acc: 0.7389 - val_loss: 0.5147 - val_acc: 0.7394\n",
      "Epoch 2/6\n",
      "5500000/5500000 [==============================] - 213s 39us/step - loss: 0.5152 - acc: 0.7392 - val_loss: 0.5150 - val_acc: 0.7390\n",
      "Epoch 3/6\n",
      "5500000/5500000 [==============================] - 202s 37us/step - loss: 0.5151 - acc: 0.7392 - val_loss: 0.5148 - val_acc: 0.7394\n",
      "Epoch 4/6\n",
      "5500000/5500000 [==============================] - 157s 29us/step - loss: 0.5149 - acc: 0.7394 - val_loss: 0.5141 - val_acc: 0.7398\n",
      "Epoch 5/6\n",
      "5500000/5500000 [==============================] - 147s 27us/step - loss: 0.5148 - acc: 0.7394 - val_loss: 0.5145 - val_acc: 0.7397\n",
      "Epoch 6/6\n",
      "5500000/5500000 [==============================] - 147s 27us/step - loss: 0.5146 - acc: 0.7396 - val_loss: 0.5142 - val_acc: 0.7396\n"
     ]
    },
    {
     "data": {
      "text/plain": [
       "<keras.callbacks.History at 0x1a39e666d8>"
      ]
     },
     "execution_count": 34,
     "metadata": {},
     "output_type": "execute_result"
    }
   ],
   "source": [
    "two_lay.fit(X_train, y_train, batch_size=64, epochs=6, verbose=1, validation_data=(X_test, y_test))"
   ]
  },
  {
   "cell_type": "code",
   "execution_count": 35,
   "metadata": {},
   "outputs": [
    {
     "name": "stdout",
     "output_type": "stream",
     "text": [
      "Train on 5500000 samples, validate on 5500000 samples\n",
      "Epoch 1/6\n",
      "5500000/5500000 [==============================] - 129s 23us/step - loss: 7.5479e-04 - acc: 0.5297 - val_loss: -7.5734e-07 - val_acc: 0.5301\n",
      "Epoch 2/6\n",
      "5500000/5500000 [==============================] - 127s 23us/step - loss: -7.5802e-07 - acc: 0.5297 - val_loss: -7.5734e-07 - val_acc: 0.5301\n",
      "Epoch 3/6\n",
      "5500000/5500000 [==============================] - 127s 23us/step - loss: -7.5802e-07 - acc: 0.5297 - val_loss: -7.5734e-07 - val_acc: 0.5301\n",
      "Epoch 4/6\n",
      "5500000/5500000 [==============================] - 182s 33us/step - loss: -7.5802e-07 - acc: 0.5297 - val_loss: -7.5734e-07 - val_acc: 0.5301\n",
      "Epoch 5/6\n",
      "5500000/5500000 [==============================] - 198s 36us/step - loss: -7.5802e-07 - acc: 0.5297 - val_loss: -7.5734e-07 - val_acc: 0.5301\n",
      "Epoch 6/6\n",
      "5500000/5500000 [==============================] - 148s 27us/step - loss: -7.5802e-07 - acc: 0.5297 - val_loss: -7.5734e-07 - val_acc: 0.5301\n"
     ]
    },
    {
     "data": {
      "text/plain": [
       "<keras.callbacks.History at 0x1a22ab9860>"
      ]
     },
     "execution_count": 35,
     "metadata": {},
     "output_type": "execute_result"
    }
   ],
   "source": [
    "kld.fit(X_train, y_train, batch_size=64, epochs=6, verbose=1, validation_data=(X_test, y_test))"
   ]
  },
  {
   "cell_type": "code",
   "execution_count": 36,
   "metadata": {
    "collapsed": true
   },
   "outputs": [],
   "source": [
    "loss_result.append(\".58\")\n",
    "accuracy_result.append(\".73\")\n",
    "label_result.append(\"3LyKLDAdam\")"
   ]
  },
  {
   "cell_type": "code",
   "execution_count": 37,
   "metadata": {},
   "outputs": [
    {
     "name": "stdout",
     "output_type": "stream",
     "text": [
      "Train on 5500000 samples, validate on 5500000 samples\n",
      "Epoch 1/6\n",
      "5500000/5500000 [==============================] - 157s 28us/step - loss: 0.8017 - acc: 0.7091 - val_loss: 0.7901 - val_acc: 0.7278\n",
      "Epoch 2/6\n",
      "5500000/5500000 [==============================] - 150s 27us/step - loss: 0.7885 - acc: 0.7299 - val_loss: 0.7872 - val_acc: 0.7319\n",
      "Epoch 3/6\n",
      "5500000/5500000 [==============================] - 189s 34us/step - loss: 0.7863 - acc: 0.7335 - val_loss: 0.7858 - val_acc: 0.7345\n",
      "Epoch 4/6\n",
      "5500000/5500000 [==============================] - 160s 29us/step - loss: 0.7853 - acc: 0.7351 - val_loss: 0.7853 - val_acc: 0.7353\n",
      "Epoch 5/6\n",
      "5500000/5500000 [==============================] - 157s 29us/step - loss: 0.7848 - acc: 0.7359 - val_loss: 0.7845 - val_acc: 0.7367\n",
      "Epoch 6/6\n",
      "5500000/5500000 [==============================] - 184s 33us/step - loss: 0.7846 - acc: 0.7363 - val_loss: 0.7846 - val_acc: 0.7366\n"
     ]
    },
    {
     "data": {
      "text/plain": [
       "<keras.callbacks.History at 0x1a23473ac8>"
      ]
     },
     "execution_count": 37,
     "metadata": {},
     "output_type": "execute_result"
    }
   ],
   "source": [
    "poisson.fit(X_train, y_train, batch_size=64, epochs=6, verbose=1, validation_data=(X_test, y_test))"
   ]
  },
  {
   "cell_type": "code",
   "execution_count": 38,
   "metadata": {
    "collapsed": true
   },
   "outputs": [],
   "source": [
    "loss_result.append(\".78\")\n",
    "accuracy_result.append(\".73\")\n",
    "label_result.append(\"3LySigPoisRMS\")"
   ]
  },
  {
   "cell_type": "code",
   "execution_count": 39,
   "metadata": {
    "collapsed": true
   },
   "outputs": [],
   "source": [
    "def create_model(activation_fn, loss_fn, optimizer_fn):\n",
    "    seq = Sequential()\n",
    "    seq.add(Dense(28, activation=activation_fn, input_shape=(28,)))\n",
    "    seq.add(Dense(10, activation=activation_fn))\n",
    "    seq.add(Dense(1, activation=activation_fn))\n",
    "    seq.compile(loss=loss_fn, optimizer=optimizer_fn, metrics=['accuracy'])\n",
    "    seq.summary()\n",
    "    return seq"
   ]
  },
  {
   "cell_type": "code",
   "execution_count": 54,
   "metadata": {},
   "outputs": [
    {
     "data": {
      "image/png": "[encoded data removed]",
      "text/plain": [
       "<matplotlib.figure.Figure at 0x1a33d68b70>"
      ]
     },
     "metadata": {},
     "output_type": "display_data"
    }
   ],
   "source": [
    "import matplotlib as plt\n",
    "import matplotlib.pyplot as plot\n",
    "\n",
    "# display(loss_result.pop(7))\n",
    "# display(loss_result)\n",
    "accycolor = []\n",
    "#Generate Colors on red/green axis based on execution time\n",
    "for index in range(0,len(loss_result)):\n",
    "    \n",
    "    percent_red = float(loss_result[index])\n",
    "    percent_green = 1 - percent_red\n",
    "    red_10 = int(percent_red * 255)\n",
    "    green_10 = int(percent_green * 255)\n",
    "    red_16 = str(hex(red_10))[-2:].replace(\"x\", \"0\")\n",
    "    green_16 = str(hex(green_10))[-2:].replace(\"x\", \"0\")\n",
    "    accycolor.append(\"#\"+str(red_16)+str(green_16)+\"88\")\n",
    "\n",
    "fig, ax = plot.subplots(figsize=(11, 9))\n",
    "rects = ax.bar(label_result, accuracy_result, color=accycolor)\n",
    "random_chance = 0\n",
    "# plot.axhline(y=random_chance, color='r', linestyle='-')\n",
    "ax.set_ylim(ymin=0)\n",
    "# Indicate Times.\n",
    "labels = [\"%s\" % l for l in label_result]\n",
    "\n",
    "\n",
    "plot.plot()\n",
    "for rect, label in zip(rects, labels):\n",
    "    ax.text(rect.get_x() + rect.get_width() / 2, .1, label,ha='center', va='bottom')"
   ]
  },
  {
   "cell_type": "code",
   "execution_count": 55,
   "metadata": {},
   "outputs": [
    {
     "name": "stdout",
     "output_type": "stream",
     "text": [
      "THIS IS AN A AMZING DATASET\n",
      "<class 'int'>\n"
     ]
    },
    {
     "data": {
      "text/plain": [
       "[]"
      ]
     },
     "execution_count": 55,
     "metadata": {},
     "output_type": "execute_result"
    },
    {
     "data": {
      "image/png": "[encoded data removed]",
      "text/plain": [
       "<matplotlib.figure.Figure at 0x1a34339898>"
      ]
     },
     "metadata": {},
     "output_type": "display_data"
    }
   ],
   "source": [
    "losscolor = []\n",
    "#Generate Colors on red/green axis based on execution time\n",
    "for index in range(0,len(loss_result)):\n",
    "    \n",
    "    percent_red = float(loss_result[index])\n",
    "    percent_green = 1 - percent_red\n",
    "    red_10 = int(percent_red * 255)\n",
    "    green_10 = int(percent_green * 255)\n",
    "    red_16 = str(hex(red_10))[-2:].replace(\"x\", \"0\")\n",
    "    green_16 = str(hex(green_10))[-2:].replace(\"x\", \"0\")\n",
    "    losscolor.append(\"#\"+str(red_16)+str(green_16)+\"88\")\n",
    "\n",
    "fig, ax = plot.subplots(figsize=(11, 9))\n",
    "\n",
    "print('THIS IS AN A AMZING DATASET')\n",
    "print(type(left))\n",
    "rects = ax.barh(label_result, accuracy_result, color=accycolor)\n",
    "random_chance = 0\n",
    "plot.axhline(y=random_chance, color='r', linestyle='-')\n",
    "\n",
    "# Indicate Times.\n",
    "labels = [\"%s\" % l for l in label_result]\n",
    "\n",
    "\n",
    "plot.plot()\n",
    "# for rect, label in zip(rects, labels):\n",
    "#     ax.text(rect.get_x() + rect.get_width() / 2, .1, label,ha='center', va='bottom')"
   ]
  },
  {
   "cell_type": "code",
   "execution_count": null,
   "metadata": {
    "collapsed": true
   },
   "outputs": [],
   "source": [
    "df.drop"
   ]
  }
 ],
 "metadata": {
  "kernelspec": {
   "display_name": "Python 3",
   "language": "python",
   "name": "python3"
  },
  "language_info": {
   "codemirror_mode": {
    "name": "ipython",
    "version": 3
   },
   "file_extension": ".py",
   "mimetype": "text/x-python",
   "name": "python",
   "nbconvert_exporter": "python",
   "pygments_lexer": "ipython3",
   "version": "3.6.3"
  }
 },
 "nbformat": 4,
 "nbformat_minor": 2
}
